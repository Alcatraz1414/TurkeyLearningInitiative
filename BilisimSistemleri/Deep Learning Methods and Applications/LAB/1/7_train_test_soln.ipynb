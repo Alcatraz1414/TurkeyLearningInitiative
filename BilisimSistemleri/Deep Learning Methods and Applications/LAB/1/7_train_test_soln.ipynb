{
 "cells": [
  {
   "cell_type": "code",
   "execution_count": 1,
   "id": "complicated-manhattan",
   "metadata": {},
   "outputs": [
    {
     "name": "stdout",
     "output_type": "stream",
     "text": [
      "True\n"
     ]
    }
   ],
   "source": [
    "# import necessary modules and check if gpu is available\n",
    "import torch, torchvision\n",
    "import matplotlib.pyplot as plt\n",
    "import torch.nn.functional as F\n",
    "print(torch.cuda.is_available())"
   ]
  },
  {
   "cell_type": "code",
   "execution_count": 2,
   "id": "voluntary-ownership",
   "metadata": {},
   "outputs": [],
   "source": [
    "# load MNIST dataset and create a dataloader\n",
    "\n",
    "mnist = torchvision.datasets.MNIST('./', train=True, download=True, transform=torchvision.transforms.ToTensor())\n",
    "loader =  torch.utils.data.DataLoader(mnist, batch_size=16, shuffle=True)"
   ]
  },
  {
   "cell_type": "code",
   "execution_count": 3,
   "id": "invisible-conviction",
   "metadata": {},
   "outputs": [
    {
     "name": "stdout",
     "output_type": "stream",
     "text": [
      "Input shape: [batch size, input size]:\n",
      "torch.Size([16, 784])\n",
      "Output shape: [batch size, output size]:\n",
      "torch.Size([16, 10])\n"
     ]
    }
   ],
   "source": [
    "# create a 2 layer neural net on gpu\n",
    "class TwoLayerNetwork(torch.nn.Module):\n",
    "    def __init__(self, hidden_dim):\n",
    "        super().__init__()\n",
    "        self.layer1 = torch.nn.Linear(784, hidden_dim)\n",
    "        self.layer2 = torch.nn.Linear(hidden_dim, 10)\n",
    "\n",
    "    def forward(self, x):\n",
    "        x = F.relu(self.layer1(x))\n",
    "        x = self.layer2(x)\n",
    "        return x\n",
    "        \n",
    "net = TwoLayerNetwork(hidden_dim=256).cuda()\n",
    "\n",
    "dummy_input = torch.randn(16, 784).cuda()\n",
    "dummy_output = net(dummy_input)\n",
    "\n",
    "print('Input shape: [batch size, input size]:')\n",
    "print(dummy_input.shape)\n",
    "\n",
    "print('Output shape: [batch size, output size]:')\n",
    "print(dummy_output.shape)\n"
   ]
  },
  {
   "cell_type": "code",
   "execution_count": 4,
   "id": "signal-shipping",
   "metadata": {},
   "outputs": [
    {
     "name": "stdout",
     "output_type": "stream",
     "text": [
      "Training started.\n",
      "Epoch 1...\n",
      "Epoch 2...\n",
      "Epoch 3...\n",
      "Training finished.\n"
     ]
    },
    {
     "data": {
      "image/png": "[encoded data removed]",
      "text/plain": [
       "<Figure size 432x288 with 1 Axes>"
      ]
     },
     "metadata": {
      "needs_background": "light"
     },
     "output_type": "display_data"
    }
   ],
   "source": [
    "# train the model for 3 epochs\n",
    "loss_function = torch.nn.CrossEntropyLoss()\n",
    "optimizer = torch.optim.SGD(net.parameters(), lr=0.01, momentum=0.9)\n",
    "NUM_EPOCHS = 3\n",
    "\n",
    "loss_list = []\n",
    "\n",
    "print('Training started.')\n",
    "for epoch in range(NUM_EPOCHS):\n",
    "    print(f'Epoch {epoch+1}...')\n",
    "    for imgs, labels in loader:\n",
    "        imgs, labels = imgs.cuda(), labels.cuda() #transfer batch to GPU\n",
    "        imgs_flat = imgs.view(-1, 784) #flatten images to feed network\n",
    "        scores = net(imgs_flat) \n",
    "        loss = loss_function(scores, labels)\n",
    "        optimizer.zero_grad() #clear grads\n",
    "        loss.backward() #compute grads\n",
    "        loss_list.append(loss.item()) #append loss value to list for plotting\n",
    "        optimizer.step() \n",
    "\n",
    "print('Training finished.')\n",
    "    \n",
    "plt.plot(loss_list); plt.show() #display the iteration-loss plot\n",
    "#Note that it may look noisy without smoothing the curve"
   ]
  },
  {
   "cell_type": "code",
   "execution_count": 5,
   "id": "excessive-costa",
   "metadata": {},
   "outputs": [
    {
     "name": "stdout",
     "output_type": "stream",
     "text": [
      "Image:\n"
     ]
    },
    {
     "data": {
      "image/png": "[encoded data removed]",
      "text/plain": [
       "<Figure size 432x288 with 1 Axes>"
      ]
     },
     "metadata": {
      "needs_background": "light"
     },
     "output_type": "display_data"
    },
    {
     "name": "stdout",
     "output_type": "stream",
     "text": [
      "Network Prediction:\n",
      "7\n",
      "Ground Truth:\n",
      "7\n",
      "-----\n",
      "Image:\n"
     ]
    },
    {
     "data": {
      "image/png": "[encoded data removed]",
      "text/plain": [
       "<Figure size 432x288 with 1 Axes>"
      ]
     },
     "metadata": {
      "needs_background": "light"
     },
     "output_type": "display_data"
    },
    {
     "name": "stdout",
     "output_type": "stream",
     "text": [
      "Network Prediction:\n",
      "2\n",
      "Ground Truth:\n",
      "2\n",
      "-----\n",
      "Image:\n"
     ]
    },
    {
     "data": {
      "image/png": "[encoded data removed]",
      "text/plain": [
       "<Figure size 432x288 with 1 Axes>"
      ]
     },
     "metadata": {
      "needs_background": "light"
     },
     "output_type": "display_data"
    },
    {
     "name": "stdout",
     "output_type": "stream",
     "text": [
      "Network Prediction:\n",
      "1\n",
      "Ground Truth:\n",
      "1\n",
      "-----\n",
      "Image:\n"
     ]
    },
    {
     "data": {
      "image/png": "[encoded data removed]",
      "text/plain": [
       "<Figure size 432x288 with 1 Axes>"
      ]
     },
     "metadata": {
      "needs_background": "light"
     },
     "output_type": "display_data"
    },
    {
     "name": "stdout",
     "output_type": "stream",
     "text": [
      "Network Prediction:\n",
      "0\n",
      "Ground Truth:\n",
      "0\n",
      "-----\n",
      "Image:\n"
     ]
    },
    {
     "data": {
      "image/png": "[encoded data removed]",
      "text/plain": [
       "<Figure size 432x288 with 1 Axes>"
      ]
     },
     "metadata": {
      "needs_background": "light"
     },
     "output_type": "display_data"
    },
    {
     "name": "stdout",
     "output_type": "stream",
     "text": [
      "Network Prediction:\n",
      "4\n",
      "Ground Truth:\n",
      "4\n",
      "-----\n",
      "Image:\n"
     ]
    },
    {
     "data": {
      "image/png": "[encoded data removed]",
      "text/plain": [
       "<Figure size 432x288 with 1 Axes>"
      ]
     },
     "metadata": {
      "needs_background": "light"
     },
     "output_type": "display_data"
    },
    {
     "name": "stdout",
     "output_type": "stream",
     "text": [
      "Network Prediction:\n",
      "1\n",
      "Ground Truth:\n",
      "1\n",
      "-----\n",
      "Image:\n"
     ]
    },
    {
     "data": {
      "image/png": "[encoded data removed]",
      "text/plain": [
       "<Figure size 432x288 with 1 Axes>"
      ]
     },
     "metadata": {
      "needs_background": "light"
     },
     "output_type": "display_data"
    },
    {
     "name": "stdout",
     "output_type": "stream",
     "text": [
      "Network Prediction:\n",
      "4\n",
      "Ground Truth:\n",
      "4\n",
      "-----\n",
      "Image:\n"
     ]
    },
    {
     "data": {
      "image/png": "[encoded data removed]",
      "text/plain": [
       "<Figure size 432x288 with 1 Axes>"
      ]
     },
     "metadata": {
      "needs_background": "light"
     },
     "output_type": "display_data"
    },
    {
     "name": "stdout",
     "output_type": "stream",
     "text": [
      "Network Prediction:\n",
      "9\n",
      "Ground Truth:\n",
      "9\n",
      "-----\n"
     ]
    }
   ],
   "source": [
    "# check the network decisions on some inputs\n",
    "\n",
    "def torch_imshow(img):\n",
    "    img = img[0]\n",
    "    plt.imshow(img.cpu().numpy())\n",
    "    plt.show()\n",
    "\n",
    "    \n",
    "#prepare test set and dataloader\n",
    "mnist_test = torchvision.datasets.MNIST('./', train=False, download=True, transform=torchvision.transforms.ToTensor())\n",
    "test_loader =  torch.utils.data.DataLoader(mnist_test, batch_size=8)\n",
    "\n",
    "test_imgs, test_labels = iter(test_loader).next() #sample the first batch from test set\n",
    "\n",
    "test_imgs, test_labels = test_imgs.cuda(), test_labels.cuda() \n",
    "test_imgs_flat = test_imgs.view(-1, 784)\n",
    "scores = net(test_imgs_flat)\n",
    "predictions = torch.argmax(scores, dim=-1) #get argmax of the scores for each sample in the batch\n",
    "\n",
    "#visualize with network predicted classes and labels\n",
    "for n in range(len(test_imgs)):\n",
    "    print('Image:')\n",
    "    torch_imshow(test_imgs[n])\n",
    "    print('Network Prediction:')\n",
    "    print(predictions[n].item())\n",
    "    print('Ground Truth:')\n",
    "    print(test_labels[n].item())\n",
    "    print('-----')\n",
    "    \n",
    "    \n",
    "    \n",
    "    \n"
   ]
  },
  {
   "cell_type": "code",
   "execution_count": null,
   "id": "sacred-warner",
   "metadata": {},
   "outputs": [],
   "source": []
  }
 ],
 "metadata": {
  "kernelspec": {
   "display_name": "Python 3",
   "language": "python",
   "name": "python3"
  },
  "language_info": {
   "codemirror_mode": {
    "name": "ipython",
    "version": 3
   },
   "file_extension": ".py",
   "mimetype": "text/x-python",
   "name": "python",
   "nbconvert_exporter": "python",
   "pygments_lexer": "ipython3",
   "version": "3.7.7"
  }
 },
 "nbformat": 4,
 "nbformat_minor": 5
}
